{
  "nbformat": 4,
  "nbformat_minor": 0,
  "metadata": {
    "colab": {
      "name": "Genetic_Algo_8QueenProblem.ipynb",
      "provenance": [],
      "collapsed_sections": []
    },
    "kernelspec": {
      "name": "python3",
      "display_name": "Python 3"
    }
  },
  "cells": [
    {
      "cell_type": "markdown",
      "metadata": {
        "id": "9YoeZNUJYljv",
        "colab_type": "text"
      },
      "source": [
        "### **Genetic Algo - Eight Queen Problem**\n",
        "Details - https://en.wikipedia.org/wiki/Eight_queens_puzzle\n",
        "* Import all required packages"
      ]
    },
    {
      "cell_type": "code",
      "metadata": {
        "id": "Jk-nxwWyPaxE",
        "colab_type": "code",
        "colab": {}
      },
      "source": [
        "import random\n",
        "import numpy as np\n",
        "from numpy.random import choice\n",
        "import pandas as pd\n",
        "from itertools import permutations"
      ],
      "execution_count": 217,
      "outputs": []
    },
    {
      "cell_type": "markdown",
      "metadata": {
        "id": "z-pu_zO4ZHCa",
        "colab_type": "text"
      },
      "source": [
        "Define initial parameters required.\n",
        "* n number of queens to be placed - in this case it is 8\n",
        "* total Population - Number entries in initial population\n",
        "* alpha list is a simple list of all possible numbers 0 to 7\n",
        "* Population Permutation - List of all possible permutations for given n"
      ]
    },
    {
      "cell_type": "code",
      "metadata": {
        "id": "1fTFvVQ5PhYS",
        "colab_type": "code",
        "colab": {}
      },
      "source": [
        "n = 8\n",
        "totalPopulation = 150\n",
        "alpha_list = list(range(n))\n",
        "Population_Permutation = list(map(list, list(permutations(alpha_list))))"
      ],
      "execution_count": 218,
      "outputs": []
    },
    {
      "cell_type": "markdown",
      "metadata": {
        "id": "d_zXCHTMZod_",
        "colab_type": "text"
      },
      "source": [
        "Function to generate initial population"
      ]
    },
    {
      "cell_type": "code",
      "metadata": {
        "id": "Nddx1ZQ11Zv9",
        "colab_type": "code",
        "colab": {}
      },
      "source": [
        "def Initial_Population(totalPopulation, n):\n",
        "  Population = []\n",
        "  secure_random = random.SystemRandom()\n",
        "  for outloop in range(totalPopulation):\n",
        "    selectedData = secure_random.choice(Population_Permutation)\n",
        "    Population.append(selectedData)\n",
        "  return Population"
      ],
      "execution_count": 219,
      "outputs": []
    },
    {
      "cell_type": "markdown",
      "metadata": {
        "id": "3KeXVvl8Z7xo",
        "colab_type": "text"
      },
      "source": [
        "**Fitness Function**\n",
        "* Function Diagonal Check - Performs validation of Queen placement with respect to it diagonal positions\n",
        "* Function Score - Takes care of validation of Queen placement with respect to columns and Rows\n",
        "\n",
        "Both together assigns a Fitness Score to each entry in Population.\n",
        "\n",
        "Fitness is based on number of Queens placed in Non attack positions. if 3 Queens Out of 8 doesnt attack each other than score is 3."
      ]
    },
    {
      "cell_type": "code",
      "metadata": {
        "id": "XdnjJ2mETi--",
        "colab_type": "code",
        "colab": {}
      },
      "source": [
        "def diagonal_check(samplematrix, i, j, n, direction):\n",
        "  if i<n and j<n and direction == 315:\n",
        "    if samplematrix[i+1][j+1] != 0:\n",
        "      return -1\n",
        "    else:\n",
        "      return diagonal_check(samplematrix, i+1, j+1, n, direction=315)\n",
        "  \n",
        "  if i<n and j>0 and direction == 225:\n",
        "    if samplematrix[i+1][j-1] != 0:\n",
        "      return -1\n",
        "    else:\n",
        "      return diagonal_check(samplematrix, i+1, j-1, n, direction=225)\n",
        "  \n",
        "  if i>0 and j<n and direction == 45:\n",
        "    if samplematrix[i-1][j+1] != 0:\n",
        "      return -1\n",
        "    else:\n",
        "      return diagonal_check(samplematrix, i-1, j+1, n, direction=45)\n",
        "\n",
        "  if i>0 and j>0 and direction == 135:\n",
        "    if samplematrix[i-1][j-1] != 0:\n",
        "      return -1\n",
        "    else:\n",
        "      return diagonal_check(samplematrix, i-1, j-1, n, direction=135)\n",
        "  return 1"
      ],
      "execution_count": 220,
      "outputs": []
    },
    {
      "cell_type": "code",
      "metadata": {
        "id": "1V_jV1N82vgk",
        "colab_type": "code",
        "colab": {}
      },
      "source": [
        "def Score(sample, n):\n",
        "  samplescore = 0\n",
        "  samplematrix = np.zeros([n,n],dtype=np.int8)\n",
        "  for loop in range(n):\n",
        "      samplematrix[sample[loop]][loop] = 1\n",
        "  \n",
        "  for loop in range(n):\n",
        "    res = 4\n",
        "    if samplematrix[sample[loop]].sum() != 1:\n",
        "      res = -1\n",
        "    else:  \n",
        "      res = diagonal_check(samplematrix, sample[loop], loop, n-1, direction=45)\n",
        "      res = res + diagonal_check(samplematrix, sample[loop], loop, n-1, direction=135)\n",
        "      res = res + diagonal_check(samplematrix, sample[loop], loop, n-1, direction=225)\n",
        "      res = res + diagonal_check(samplematrix, sample[loop], loop, n-1, direction=315)\n",
        "    if res == 4:\n",
        "      samplescore = samplescore + 1\n",
        "  return samplescore"
      ],
      "execution_count": 221,
      "outputs": []
    },
    {
      "cell_type": "markdown",
      "metadata": {
        "id": "OiEGq5gTbKVh",
        "colab_type": "text"
      },
      "source": [
        "Scores / Assigness a Fitness Value for whole population provided to it."
      ]
    },
    {
      "cell_type": "code",
      "metadata": {
        "id": "yfXOyFwXbqxz",
        "colab_type": "code",
        "colab": {}
      },
      "source": [
        "def Population_Score(Population, n):\n",
        "  PopScore = pd.DataFrame()\n",
        "  PopScore[\"Population\"] = Population\n",
        "  res = []\n",
        "  for loop in range(len(Population)):\n",
        "    res.append(Score(Population[loop], n))\n",
        "  PopScore[\"Score\"] = res\n",
        "  PopScore[\"PScore\"] = (PopScore.Score / PopScore.Score.sum())\n",
        "  return PopScore"
      ],
      "execution_count": 222,
      "outputs": []
    },
    {
      "cell_type": "markdown",
      "metadata": {
        "id": "8det-ma0bjM4",
        "colab_type": "text"
      },
      "source": [
        "**CrossOver**\n",
        "* Pick any two traits of each chromosome and swap their values."
      ]
    },
    {
      "cell_type": "code",
      "metadata": {
        "id": "gy9IDjEx2-2D",
        "colab_type": "code",
        "colab": {}
      },
      "source": [
        "def Cross_Over(Selection1, Selection2, CrossOverRate, n):\n",
        "  #return Selection1[:int(np.floor(n*CrossOverRate))] + Selection2[int(np.floor(n*CrossOverRate)):] \n",
        "  secure_random = random.SystemRandom()\n",
        "  for loop in range(int(np.floor(n*CrossOverRate))):\n",
        "    alpha = secure_random.choice(alpha_list)\n",
        "    index1 = Selection1.index(alpha)\n",
        "    index2 = Selection2.index(alpha)\n",
        "    value1 = Selection1[index2]\n",
        "    value2 = Selection2[index1]\n",
        "    Selection1[index2] = alpha\n",
        "    Selection2[index1] = alpha\n",
        "    Selection1[index1] = value1\n",
        "    Selection2[index2] = value2\n",
        "  return Selection1, Selection2"
      ],
      "execution_count": 223,
      "outputs": []
    },
    {
      "cell_type": "markdown",
      "metadata": {
        "id": "eMrKxMr5bnU2",
        "colab_type": "text"
      },
      "source": [
        "**Mutation**\n",
        "* Scramble Mutation concept is utilized here\n",
        "* Pick any two positions randomly from a chromosome / single list and swap their positions."
      ]
    },
    {
      "cell_type": "code",
      "metadata": {
        "id": "apIBGsYWCCJ3",
        "colab_type": "code",
        "colab": {}
      },
      "source": [
        "def Mutation(Population, MutationRate):\n",
        "  secure_random = random.SystemRandom()\n",
        "  for loop in range(int(np.floor(len(Population)*MutationRate))):\n",
        "    Selection = secure_random.choice(Population)\n",
        "    index = Population.index(Selection)\n",
        "    alpha1 = secure_random.choice(alpha_list)\n",
        "    alpha2 = secure_random.choice(alpha_list)\n",
        "    temp = Selection[alpha1]\n",
        "    Selection[alpha1] = Selection[alpha2]\n",
        "    Selection[alpha2] = temp\n",
        "    Population[index] = Selection\n",
        "  return Population"
      ],
      "execution_count": 224,
      "outputs": []
    },
    {
      "cell_type": "markdown",
      "metadata": {
        "id": "dlSIvvimbpCr",
        "colab_type": "text"
      },
      "source": [
        "**Generate Offsprings**\n",
        "* Selection and CrossOver\n",
        "* Selection is done using Roulette Wheel method\n"
      ]
    },
    {
      "cell_type": "code",
      "metadata": {
        "id": "xhqzvih6cnUZ",
        "colab_type": "code",
        "colab": {}
      },
      "source": [
        "def Generate_Offsprings(ScoredPopulation, totalPopulation, SelectionRate, CrossOverRate, n):\n",
        "  offsprings = []\n",
        "  ScoredPopulation = ScoredPopulation.sort_values('PScore', ascending=True)\n",
        "  ScoredPopulation[\"PScoreCum\"] = ScoredPopulation.PScore.cumsum()\n",
        "  for loop in range(int(np.floor(totalPopulation*SelectionRate/2))):\n",
        "    DrawNumber = random.random()\n",
        "    Selection1 = ScoredPopulation[ScoredPopulation.PScoreCum > DrawNumber].head(1).Population\n",
        "    DrawNumber = random.random()\n",
        "    Selection2 = ScoredPopulation[ScoredPopulation.PScoreCum > DrawNumber].head(1).Population\n",
        "    Selection1, Selection2 = Cross_Over(list(Selection1)[0], list(Selection2)[0], CrossOverRate, n)\n",
        "    offsprings.append(Selection1)\n",
        "    offsprings.append(Selection2)\n",
        "  return offsprings"
      ],
      "execution_count": 225,
      "outputs": []
    },
    {
      "cell_type": "markdown",
      "metadata": {
        "id": "ixWdfMcsd5en",
        "colab_type": "text"
      },
      "source": [
        "**Main Program** - Sequenced in following steps\n",
        "* Generate Initial Population and Score / call Fitness Function\n",
        "* Define Selection Rate, Cross Over Rate and Mutation Rate\n",
        "* Loop upto 200 Generations till Fitness of 8 is reached.\n",
        "  * Step 1 - Select and Generate Offsprings by CrossOver\n",
        "  * Step 2 - Mutate Offsprings\n",
        "  * Step 3 - Score Offsprings / Call Fitness Function\n",
        "  * Step 4 - Check if desired Fitness level is reached. If yes then Break from loop otherwise repeat for next generation."
      ]
    },
    {
      "cell_type": "code",
      "metadata": {
        "id": "ZgZoys48P6Q_",
        "colab_type": "code",
        "colab": {}
      },
      "source": [
        "Population = Initial_Population(totalPopulation, n)\n",
        "ScoredPopulation = Population_Score(Population, n)"
      ],
      "execution_count": 234,
      "outputs": []
    },
    {
      "cell_type": "code",
      "metadata": {
        "id": "S6eDrumT70DG",
        "colab_type": "code",
        "colab": {}
      },
      "source": [
        "SelectionRate = .05 # 5% of Population will be selected for Cross Over\n",
        "CrossOverRate = .25 # 25% of 8 elements that 2 elements will be cross over\n",
        "MutationRate = .10 # 10% of OffSprings"
      ],
      "execution_count": 235,
      "outputs": []
    },
    {
      "cell_type": "code",
      "metadata": {
        "id": "Qa9y5H1Ke9ds",
        "colab_type": "code",
        "colab": {
          "base_uri": "https://localhost:8080/",
          "height": 266
        },
        "outputId": "7fa3362f-cc12-4370-c879-574b9f9acb63"
      },
      "source": [
        "for loop in range(100):\n",
        "  Offsprings = Generate_Offsprings(ScoredPopulation, totalPopulation, SelectionRate, CrossOverRate, n)\n",
        "  Offsprings = Mutation(Offsprings, MutationRate)\n",
        "  ScoredOffsprings = Population_Score(Offsprings, n)\n",
        "  ScoredPopulation.drop(ScoredPopulation.head(int(np.floor(totalPopulation*SelectionRate))).index,inplace=True)\n",
        "  ScoredPopulation = ScoredPopulation.append(ScoredOffsprings, ignore_index = True)\n",
        "  maxscore = ScoredPopulation.Score.max()\n",
        "  print(\"Gen - \", loop, \"   TopScore - \", maxscore, \"   Best in Population - \", list(ScoredPopulation[ScoredPopulation.Score == maxscore].head(1).Population)[0])\n",
        "  if ScoredPopulation.Score.max() == n:\n",
        "    break"
      ],
      "execution_count": 236,
      "outputs": [
        {
          "output_type": "stream",
          "text": [
            "Gen -  0    TopScore -  6    Best in Population -  [5, 3, 4, 7, 0, 2, 1, 6]\n",
            "Gen -  1    TopScore -  6    Best in Population -  [5, 3, 4, 7, 0, 2, 1, 6]\n",
            "Gen -  2    TopScore -  6    Best in Population -  [3, 6, 0, 1, 4, 7, 5, 2]\n",
            "Gen -  3    TopScore -  6    Best in Population -  [3, 5, 7, 2, 4, 6, 1, 0]\n",
            "Gen -  4    TopScore -  6    Best in Population -  [3, 5, 7, 2, 4, 6, 1, 0]\n",
            "Gen -  5    TopScore -  6    Best in Population -  [3, 5, 7, 2, 4, 6, 1, 0]\n",
            "Gen -  6    TopScore -  5    Best in Population -  [5, 1, 6, 2, 7, 4, 0, 3]\n",
            "Gen -  7    TopScore -  5    Best in Population -  [5, 1, 6, 2, 7, 4, 0, 3]\n",
            "Gen -  8    TopScore -  5    Best in Population -  [5, 1, 6, 2, 7, 4, 0, 3]\n",
            "Gen -  9    TopScore -  5    Best in Population -  [2, 6, 3, 1, 5, 4, 0, 7]\n",
            "Gen -  10    TopScore -  5    Best in Population -  [0, 6, 1, 3, 5, 4, 2, 7]\n",
            "Gen -  11    TopScore -  5    Best in Population -  [0, 6, 1, 3, 5, 4, 2, 7]\n",
            "Gen -  12    TopScore -  5    Best in Population -  [0, 5, 4, 3, 6, 1, 2, 7]\n",
            "Gen -  13    TopScore -  8    Best in Population -  [7, 2, 0, 5, 1, 4, 6, 3]\n"
          ],
          "name": "stdout"
        }
      ]
    }
  ]
}